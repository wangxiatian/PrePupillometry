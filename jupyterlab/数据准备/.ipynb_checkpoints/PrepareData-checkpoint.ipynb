{
 "cells": [
  {
   "cell_type": "code",
   "execution_count": 1,
   "id": "55cc489e",
   "metadata": {},
   "outputs": [],
   "source": [
    "import numpy as np\n",
    "import pandas as pd\n",
    "import os\n",
    "from datetime import datetime\n",
    "from tqdm import tqdm"
   ]
  },
  {
   "cell_type": "code",
   "execution_count": 2,
   "id": "9a6f8cfc",
   "metadata": {},
   "outputs": [
    {
     "data": {
      "text/plain": [
       "108"
      ]
     },
     "execution_count": 2,
     "metadata": {},
     "output_type": "execute_result"
    }
   ],
   "source": [
    "Data_path = \"../../Data/\"\n",
    "file_all_pupil = os.listdir(Data_path+\"PupilData/\")\n",
    "len(file_all_pupil)"
   ]
  },
  {
   "cell_type": "code",
   "execution_count": 3,
   "id": "8bdde5c5",
   "metadata": {},
   "outputs": [],
   "source": [
    "def timestamp_to_utc_datetime(timestamp):\n",
    " \n",
    "    \"\"\"将 13 位整数的毫秒时间戳转化成 utc 时间 (datetime 格式)\n",
    "    :param timestamp: 13 位整数的时间戳 (1456402864242)\n",
    "    :return: 返回 datetime 格式 {datetime}2016-02-25 12:21:04.242000\n",
    "    \"\"\"\n",
    "\n",
    "    utc_dt_time = datetime.utcfromtimestamp(timestamp / 1000.0)\n",
    "    \n",
    "\n",
    "    return utc_dt_time"
   ]
  },
  {
   "cell_type": "code",
   "execution_count": 4,
   "id": "7ac24df2",
   "metadata": {},
   "outputs": [],
   "source": [
    "def data_befo_after(path_pupil,path_event):\n",
    "    \"\"\"\n",
    "    根据测试Event的时间对瞳孔数据进行删减，去除实验前后的多余数据\n",
    "    \n",
    "    \"\"\"\n",
    "    \n",
    "    file_new_event = pd.read_csv(path_event)\n",
    "    file_new_pupil = pd.read_csv(path_pupil)\n",
    "#     print(len(file_new_event))\n",
    "#     print(len(file_new_pupil))\n",
    "    file_new_event['timestamp'] = pd.to_datetime(file_new_event['timestamp'])\n",
    "    file_new_pupil['timestamp'] = pd.to_datetime(file_new_pupil['timestamp'])\n",
    "    # 删除实验开始前的数据\n",
    "    # Delete PupilData before Experiment Event\n",
    "    file_new_pupil = file_new_pupil.drop(file_new_pupil[file_new_pupil['timestamp']<file_new_event['timestamp'][0]].index[:-1])\n",
    "    # 删除实验后的数据\n",
    "    # Delete PupilData After Experiment Event\n",
    "    file_new_pupil = file_new_pupil.drop(file_new_pupil[file_new_pupil['timestamp']>file_new_event['timestamp'][len(file_new_event['timestamp'])-1]].index)\n",
    "    # 保存到单独的文件夹\n",
    "    # Save to a separate folder\n",
    "    file_new_pupil.to_csv(Data_path+\"/processed/\"+patient_name+\"/\"+\"sub\"+patient_name+\".dat\",index=False)\n",
    "#     # 保存到组间分析的文件夹\n",
    "#     file_new_pupil.to_csv(\"分析结果/\"+\"sub\"+patient_name+\".dat\",index=False)\n",
    "    "
   ]
  },
  {
   "cell_type": "code",
   "execution_count": 5,
   "id": "a76bb71f",
   "metadata": {},
   "outputs": [],
   "source": [
    "def event_fun(patient_name):\n",
    "    \"\"\"\n",
    "    对event数据进行操作\n",
    "    1. 删除不需要的特征\n",
    "    2. 提取timestamp列表\n",
    "    3. 提取message列表\n",
    "    4. 保存结果\n",
    "    \"\"\"\n",
    "\n",
    "    file_event = pd.read_csv(Data_path+\"/EventData/\"+patient_name+\".csv\")\n",
    "    file_event = file_event[['timestamp_stake', 'timestamp_stakeDisappear', 'timestamp_spaceship','timestamp_spaceshipResponse', 'timestamp_monster','timestamp_monsterResponse', 'timestamp_reward','transitions','stake']]\n",
    "    #\n",
    "    # 删除不符合要求的数据\n",
    "    #\n",
    "    for i in ['timestamp_stake', 'timestamp_stakeDisappear', 'timestamp_spaceship','timestamp_spaceshipResponse', 'timestamp_monster','timestamp_monsterResponse', 'timestamp_reward']:\n",
    "        file_event = file_event.drop(file_event[file_event[i] == 0].index)\n",
    "    file_event = file_event.reset_index(drop=True)\n",
    "    file_event[\"timestamp_end_wang\"] = file_event[\"timestamp_stake\"]+9000\n",
    "    order = ['timestamp_stake', 'timestamp_stakeDisappear', 'timestamp_spaceship',\n",
    "       'timestamp_spaceshipResponse', 'timestamp_monster',\n",
    "       'timestamp_monsterResponse', 'timestamp_reward', 'timestamp_end_wang','transitions', 'stake']\n",
    "    file_event = file_event[order]\n",
    "    #\n",
    "    # 创建timestamp列\n",
    "    #\n",
    "    for i in tqdm(file_event.columns[:-2]):\n",
    "        file_event[i] = file_event[i].apply(timestamp_to_utc_datetime)\n",
    "    file_event\n",
    "    file_new_event = pd.DataFrame(columns=[\"timestamp\",\"message\"])\n",
    "    file_new_event[\"timestamp\"] = file_event.values[:,:-2].flatten()\n",
    "    #\n",
    "    # 创建message列\n",
    "    #\n",
    "    temp = []\n",
    "    for index in tqdm(range(len(file_new_event)//8)):\n",
    "        temp.append(\"TRIALID %d\"%(index+1))\n",
    "        temp.append(\"!V TRIAL_VAR transitions %s\"%file_event['transitions'][index])\n",
    "        temp.append(\"!V TRIAL_VAR stake %s\"%file_event['stake'][index])\n",
    "        temp.extend([\"!E TRIAL_EVENT_VAR response_1\",\"!E TRIAL_EVENT_VAR monster_show\",\"!E TRIAL_EVENT_VAR response_2\",\"!E TRIAL_EVENT_VAR reward\",\"TRIAL_END\"])\n",
    "    file_new_event[\"message\"] = temp\n",
    "    # 保存到单独的文件夹\n",
    "    file_new_event.to_csv(Data_path+\"/processed/\"+patient_name+\"/sub\"+patient_name+\"_events.csv\",index=False)\n",
    "#     # 保存到组间分析文件夹\n",
    "#     file_new_event.to_csv(\"./分析结果/\"+\"/sub\"+patient_name+\"_events.csv\",index=False)\n",
    "    # 删除非试验期间数据\n",
    "    data_befo_after(Data_path+\"/processed/\"+patient_name+\"/\"+\"sub\"+patient_name+\".dat\",Data_path+\"/processed/\"+patient_name+\"/sub\"+patient_name+\"_events.csv\")\n",
    "    "
   ]
  },
  {
   "cell_type": "code",
   "execution_count": 6,
   "id": "17264e9f",
   "metadata": {},
   "outputs": [
    {
     "ename": "FileNotFoundError",
     "evalue": "[WinError 3] 系统找不到指定的路径。: '../../Data//processed/22-001/'",
     "output_type": "error",
     "traceback": [
      "\u001b[1;31m---------------------------------------------------------------------------\u001b[0m",
      "\u001b[1;31mFileNotFoundError\u001b[0m                         Traceback (most recent call last)",
      "\u001b[1;32m<ipython-input-6-4ae4e34594b8>\u001b[0m in \u001b[0;36m<module>\u001b[1;34m\u001b[0m\n\u001b[0;32m     23\u001b[0m \u001b[1;31m#         os.mkdir(Data_path+\"/processed/\"+patient_name+\"/\")\u001b[0m\u001b[1;33m\u001b[0m\u001b[1;33m\u001b[0m\u001b[1;33m\u001b[0m\u001b[0m\n\u001b[0;32m     24\u001b[0m     \u001b[1;32mif\u001b[0m \u001b[1;32mnot\u001b[0m \u001b[0mos\u001b[0m\u001b[1;33m.\u001b[0m\u001b[0mpath\u001b[0m\u001b[1;33m.\u001b[0m\u001b[0mexists\u001b[0m\u001b[1;33m(\u001b[0m\u001b[0mData_path\u001b[0m\u001b[1;33m+\u001b[0m\u001b[1;34m\"/processed/\"\u001b[0m\u001b[1;33m+\u001b[0m\u001b[0mpatient_name\u001b[0m\u001b[1;33m+\u001b[0m\u001b[1;34m\"/\"\u001b[0m\u001b[1;33m)\u001b[0m\u001b[1;33m:\u001b[0m\u001b[1;33m\u001b[0m\u001b[1;33m\u001b[0m\u001b[0m\n\u001b[1;32m---> 25\u001b[1;33m         \u001b[0mos\u001b[0m\u001b[1;33m.\u001b[0m\u001b[0mmkdir\u001b[0m\u001b[1;33m(\u001b[0m\u001b[0mData_path\u001b[0m\u001b[1;33m+\u001b[0m\u001b[1;34m\"/processed/\"\u001b[0m\u001b[1;33m+\u001b[0m\u001b[0mpatient_name\u001b[0m\u001b[1;33m+\u001b[0m\u001b[1;34m\"/\"\u001b[0m\u001b[1;33m)\u001b[0m\u001b[1;33m\u001b[0m\u001b[1;33m\u001b[0m\u001b[0m\n\u001b[0m\u001b[0;32m     26\u001b[0m \u001b[1;33m\u001b[0m\u001b[0m\n\u001b[0;32m     27\u001b[0m     \u001b[1;31m# 保存到单独的文件夹\u001b[0m\u001b[1;33m\u001b[0m\u001b[1;33m\u001b[0m\u001b[1;33m\u001b[0m\u001b[0m\n",
      "\u001b[1;31mFileNotFoundError\u001b[0m: [WinError 3] 系统找不到指定的路径。: '../../Data//processed/22-001/'"
     ]
    }
   ],
   "source": [
    "# 没有对应的游戏数据\n",
    "temp_no_event_data = []\n",
    "for i in file_all_pupil:\n",
    "    import time\n",
    "    # 读取一个瞳孔文件\n",
    "    # read PupilData\n",
    "    file_pupil = pd.read_csv(Data_path+\"/PupilData/\"+i)\n",
    "    # 提取被试名称\n",
    "    # extract name\n",
    "    patient_name = i.split(\"-\")[0]+\"-\"+i.split(\"-\")[1]\n",
    "    # file_event_name = i.split(\"-\")[0]+\"-\"+i.split(\"-\")[1]+\".csv\"\n",
    "    file_new_pupil = pd.DataFrame(columns=[\"timestamp\",\"pupil_size\",\"pupil_x\",\"pupil_y\"])\n",
    "    \n",
    "    file_new_pupil[\"timestamp\"] = file_pupil[\"timestamp_ms\"].apply(timestamp_to_utc_datetime)\n",
    "    file_new_pupil[\"pupil_size\"] = file_pupil[\"diameter_px\"]\n",
    "    file_new_pupil[\"pupil_x\"] = file_pupil[\"center_x\"]\n",
    "    file_new_pupil[\"pupil_y\"] = file_pupil[\"center_y\"]\n",
    "#     print(Data_path+\"/processed/\"+patient_name+\"/\"+\"sub\"+patient_name+\".dat\")\n",
    "#     if os.path.exists(Data_path+\"/processed/\"+patient_name+\"/\"):\n",
    "#         print(\"存在\")\n",
    "#     else:\n",
    "#         print(\"不存在\")\n",
    "#         os.mkdir(Data_path+\"/processed/\"+patient_name+\"/\")\n",
    "    if not os.path.exists(Data_path+\"/processed/\"):\n",
    "        os.mkdir(Data_path+\"/processed/\")\n",
    "    if not os.path.exists(Data_path+\"/processed/\"+patient_name+\"/\"):\n",
    "        os.mkdir(Data_path+\"/processed/\"+patient_name+\"/\")\n",
    "\n",
    "    # 保存到单独的文件夹\n",
    "    file_new_pupil.to_csv(Data_path+\"/processed/\"+patient_name+\"/\"+\"sub\"+patient_name+\".dat\",index=False)\n",
    "    # 瞳孔数据处理完毕，现在处理事件数据\n",
    "    \n",
    "    if os.path.exists(Data_path+\"/EventData/\"+patient_name+\".csv\"):\n",
    "        event_fun(patient_name)    \n",
    "    else:\n",
    "        print(patient_name+\"对应的文件不存在\")\n",
    "        print(patient_name+\"The corresponding Event data does not exist\")\n",
    "        temp_no_event_data.append(patient_name)"
   ]
  },
  {
   "cell_type": "code",
   "execution_count": 7,
   "id": "e5cd3e2a",
   "metadata": {},
   "outputs": [
    {
     "name": "stdout",
     "output_type": "stream",
     "text": [
      "数据总共108无效率15.7%\n"
     ]
    }
   ],
   "source": [
    "print(\"数据总共\"+str(len(file_all_pupil))+\"无效率\"+str(round(len(temp_no_event_data)/len(file_all_pupil)*100,1))+\"%\")"
   ]
  },
  {
   "cell_type": "code",
   "execution_count": null,
   "id": "ec310a31",
   "metadata": {},
   "outputs": [],
   "source": []
  }
 ],
 "metadata": {
  "kernelspec": {
   "display_name": "Python 3",
   "language": "python",
   "name": "python3"
  },
  "language_info": {
   "codemirror_mode": {
    "name": "ipython",
    "version": 3
   },
   "file_extension": ".py",
   "mimetype": "text/x-python",
   "name": "python",
   "nbconvert_exporter": "python",
   "pygments_lexer": "ipython3",
   "version": "3.7.9"
  }
 },
 "nbformat": 4,
 "nbformat_minor": 5
}
