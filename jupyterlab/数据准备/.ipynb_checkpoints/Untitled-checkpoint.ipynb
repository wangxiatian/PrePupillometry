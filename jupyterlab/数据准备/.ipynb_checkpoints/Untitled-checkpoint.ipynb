{
 "cells": [
  {
   "cell_type": "markdown",
   "metadata": {},
   "source": [
    "# 标准转化代码"
   ]
  },
  {
   "cell_type": "code",
   "execution_count": 1,
   "metadata": {},
   "outputs": [],
   "source": [
    "import numpy as np\n",
    "import pandas as pd"
   ]
  },
  {
   "cell_type": "markdown",
   "metadata": {},
   "source": [
    "## 修改瞳孔数据`.dat`"
   ]
  },
  {
   "cell_type": "code",
   "execution_count": 146,
   "metadata": {},
   "outputs": [],
   "source": [
    "file_pupil = pd.read_csv(\"./22-002-2021-11-01.csv\")\n",
    "file_new_pupil = pd.DataFrame(columns=[\"timestamp\",\"pupil_size\",\"pupil_x\",\"pupil_y\"])"
   ]
  },
  {
   "cell_type": "code",
   "execution_count": 2,
   "metadata": {},
   "outputs": [],
   "source": [
    "# 时间转换模块，需要将时间转换为字符串\n",
    "from datetime import datetime\n",
    " \n",
    "\n",
    "def timestamp_to_utc_datetime(timestamp):\n",
    " \n",
    "    \"\"\"将 13 位整数的毫秒时间戳转化成 utc 时间 (datetime 格式)\n",
    "    :param timestamp: 13 位整数的时间戳 (1456402864242)\n",
    "    :return: 返回 datetime 格式 {datetime}2016-02-25 12:21:04.242000\n",
    "    \"\"\"\n",
    "\n",
    "    utc_dt_time = datetime.utcfromtimestamp(timestamp / 1000.0)\n",
    "    \n",
    "\n",
    "    return utc_dt_time\n"
   ]
  },
  {
   "cell_type": "code",
   "execution_count": 148,
   "metadata": {},
   "outputs": [
    {
     "data": {
      "text/html": [
       "<div>\n",
       "<style scoped>\n",
       "    .dataframe tbody tr th:only-of-type {\n",
       "        vertical-align: middle;\n",
       "    }\n",
       "\n",
       "    .dataframe tbody tr th {\n",
       "        vertical-align: top;\n",
       "    }\n",
       "\n",
       "    .dataframe thead th {\n",
       "        text-align: right;\n",
       "    }\n",
       "</style>\n",
       "<table border=\"1\" class=\"dataframe\">\n",
       "  <thead>\n",
       "    <tr style=\"text-align: right;\">\n",
       "      <th></th>\n",
       "      <th>timestamp</th>\n",
       "      <th>pupil_size</th>\n",
       "      <th>pupil_x</th>\n",
       "      <th>pupil_y</th>\n",
       "    </tr>\n",
       "  </thead>\n",
       "  <tbody>\n",
       "    <tr>\n",
       "      <th>0</th>\n",
       "      <td>2021-11-01 09:18:58.709</td>\n",
       "      <td>75</td>\n",
       "      <td>633.730</td>\n",
       "      <td>390.273</td>\n",
       "    </tr>\n",
       "    <tr>\n",
       "      <th>1</th>\n",
       "      <td>2021-11-01 09:18:58.718</td>\n",
       "      <td>71</td>\n",
       "      <td>633.647</td>\n",
       "      <td>390.231</td>\n",
       "    </tr>\n",
       "    <tr>\n",
       "      <th>2</th>\n",
       "      <td>2021-11-01 09:18:58.727</td>\n",
       "      <td>74</td>\n",
       "      <td>632.795</td>\n",
       "      <td>390.311</td>\n",
       "    </tr>\n",
       "    <tr>\n",
       "      <th>3</th>\n",
       "      <td>2021-11-01 09:18:58.736</td>\n",
       "      <td>72</td>\n",
       "      <td>633.956</td>\n",
       "      <td>389.668</td>\n",
       "    </tr>\n",
       "    <tr>\n",
       "      <th>4</th>\n",
       "      <td>2021-11-01 09:18:58.744</td>\n",
       "      <td>74</td>\n",
       "      <td>633.628</td>\n",
       "      <td>390.505</td>\n",
       "    </tr>\n",
       "    <tr>\n",
       "      <th>...</th>\n",
       "      <td>...</td>\n",
       "      <td>...</td>\n",
       "      <td>...</td>\n",
       "      <td>...</td>\n",
       "    </tr>\n",
       "    <tr>\n",
       "      <th>931312</th>\n",
       "      <td>2021-11-01 11:34:37.764</td>\n",
       "      <td>107</td>\n",
       "      <td>965.178</td>\n",
       "      <td>891.191</td>\n",
       "    </tr>\n",
       "    <tr>\n",
       "      <th>931313</th>\n",
       "      <td>2021-11-01 11:34:37.773</td>\n",
       "      <td>94</td>\n",
       "      <td>1238.730</td>\n",
       "      <td>216.283</td>\n",
       "    </tr>\n",
       "    <tr>\n",
       "      <th>931314</th>\n",
       "      <td>2021-11-01 11:34:37.782</td>\n",
       "      <td>100</td>\n",
       "      <td>576.094</td>\n",
       "      <td>911.291</td>\n",
       "    </tr>\n",
       "    <tr>\n",
       "      <th>931315</th>\n",
       "      <td>2021-11-01 11:34:37.790</td>\n",
       "      <td>299</td>\n",
       "      <td>575.474</td>\n",
       "      <td>914.943</td>\n",
       "    </tr>\n",
       "    <tr>\n",
       "      <th>931316</th>\n",
       "      <td>2021-11-01 11:34:37.799</td>\n",
       "      <td>87</td>\n",
       "      <td>762.180</td>\n",
       "      <td>537.007</td>\n",
       "    </tr>\n",
       "  </tbody>\n",
       "</table>\n",
       "<p>931317 rows × 4 columns</p>\n",
       "</div>"
      ],
      "text/plain": [
       "                     timestamp  pupil_size   pupil_x  pupil_y\n",
       "0      2021-11-01 09:18:58.709          75   633.730  390.273\n",
       "1      2021-11-01 09:18:58.718          71   633.647  390.231\n",
       "2      2021-11-01 09:18:58.727          74   632.795  390.311\n",
       "3      2021-11-01 09:18:58.736          72   633.956  389.668\n",
       "4      2021-11-01 09:18:58.744          74   633.628  390.505\n",
       "...                        ...         ...       ...      ...\n",
       "931312 2021-11-01 11:34:37.764         107   965.178  891.191\n",
       "931313 2021-11-01 11:34:37.773          94  1238.730  216.283\n",
       "931314 2021-11-01 11:34:37.782         100   576.094  911.291\n",
       "931315 2021-11-01 11:34:37.790         299   575.474  914.943\n",
       "931316 2021-11-01 11:34:37.799          87   762.180  537.007\n",
       "\n",
       "[931317 rows x 4 columns]"
      ]
     },
     "execution_count": 148,
     "metadata": {},
     "output_type": "execute_result"
    }
   ],
   "source": [
    "import time\n",
    "file_pupil = pd.read_csv(\"./22-002-2021-11-01.csv\")\n",
    "file_new_pupil[\"timestamp\"] = file_pupil[\"timestamp_ms\"].apply(timestamp_to_utc_datetime)\n",
    "file_new_pupil[\"pupil_size\"] = file_pupil[\"diameter_px\"]\n",
    "file_new_pupil[\"pupil_x\"] = file_pupil[\"center_x\"]\n",
    "file_new_pupil[\"pupil_y\"] = file_pupil[\"center_y\"]\n",
    "file_new_pupil"
   ]
  },
  {
   "cell_type": "code",
   "execution_count": 149,
   "metadata": {},
   "outputs": [
    {
     "data": {
      "text/plain": [
       "timestamp     datetime64[ns]\n",
       "pupil_size             int64\n",
       "pupil_x              float64\n",
       "pupil_y              float64\n",
       "dtype: object"
      ]
     },
     "execution_count": 149,
     "metadata": {},
     "output_type": "execute_result"
    }
   ],
   "source": [
    "file_new_pupil.dtypes"
   ]
  },
  {
   "cell_type": "code",
   "execution_count": 150,
   "metadata": {},
   "outputs": [],
   "source": [
    "file_new_pupil.to_csv(\"./sub002_2.dat\",index=False)"
   ]
  },
  {
   "cell_type": "markdown",
   "metadata": {},
   "source": [
    "## 修改event时间`.csv`"
   ]
  },
  {
   "cell_type": "code",
   "execution_count": 26,
   "metadata": {},
   "outputs": [],
   "source": [
    "file_event = pd.read_excel(\"22-002决策数据.xlsx\")"
   ]
  },
  {
   "cell_type": "code",
   "execution_count": 27,
   "metadata": {},
   "outputs": [],
   "source": [
    "file_event = file_event[['timestamp_stake', 'timestamp_stakeDisappear', 'timestamp_spaceship','timestamp_spaceshipResponse', 'timestamp_monster','timestamp_monsterResponse', 'timestamp_reward','transitions','stake']]\n"
   ]
  },
  {
   "cell_type": "code",
   "execution_count": 28,
   "metadata": {},
   "outputs": [],
   "source": [
    "# 如果没有来的即选择飞机，那么数据直接删除\n",
    "file_event = file_event.drop(file_event[file_event[\"timestamp_spaceshipResponse\"] == 0].index)"
   ]
  },
  {
   "cell_type": "code",
   "execution_count": 29,
   "metadata": {},
   "outputs": [],
   "source": [
    "# 如果选了飞机但是没有选择怪物，也直接删除\n",
    "file_event = file_event.drop(file_event[file_event['timestamp_monsterResponse'] == 0].index)"
   ]
  },
  {
   "cell_type": "code",
   "execution_count": 30,
   "metadata": {},
   "outputs": [],
   "source": [
    "file_event = file_event.reset_index(drop=True)"
   ]
  },
  {
   "cell_type": "code",
   "execution_count": 31,
   "metadata": {},
   "outputs": [
    {
     "data": {
      "text/plain": [
       "313"
      ]
     },
     "execution_count": 31,
     "metadata": {},
     "output_type": "execute_result"
    }
   ],
   "source": [
    "len(file_event)"
   ]
  },
  {
   "cell_type": "code",
   "execution_count": 35,
   "metadata": {},
   "outputs": [],
   "source": [
    "# 时间转换模块，需要将时间转换为字符串\n",
    "from datetime import datetime\n",
    " \n",
    "\n",
    "def timestamp_to_utc_datetime(timestamp):\n",
    " \n",
    "    \"\"\"将 13 位整数的毫秒时间戳转化成 utc 时间 (datetime 格式)\n",
    "    :param timestamp: 13 位整数的时间戳 (1456402864242)\n",
    "    :return: 返回 datetime 格式 {datetime}2016-02-25 12:21:04.242000\n",
    "    \"\"\"\n",
    "\n",
    "    utc_dt_time = datetime.utcfromtimestamp(timestamp / 1000.0)\n",
    "    \n",
    "\n",
    "    return utc_dt_time\n"
   ]
  },
  {
   "cell_type": "code",
   "execution_count": 36,
   "metadata": {},
   "outputs": [
    {
     "data": {
      "text/plain": [
       "Index(['timestamp_stake', 'timestamp_stakeDisappear', 'timestamp_spaceship',\n",
       "       'timestamp_spaceshipResponse', 'timestamp_monster',\n",
       "       'timestamp_monsterResponse', 'timestamp_reward', 'transitions', 'stake',\n",
       "       'timestamp_end_wang'],\n",
       "      dtype='object')"
      ]
     },
     "execution_count": 36,
     "metadata": {},
     "output_type": "execute_result"
    }
   ],
   "source": [
    "file_event.columns"
   ]
  },
  {
   "cell_type": "code",
   "execution_count": 37,
   "metadata": {},
   "outputs": [],
   "source": [
    "file_event[\"timestamp_end_wang\"] = file_event[\"timestamp_stake\"]+9000"
   ]
  },
  {
   "cell_type": "code",
   "execution_count": 38,
   "metadata": {},
   "outputs": [
    {
     "data": {
      "text/plain": [
       "Index(['timestamp_stake', 'timestamp_stakeDisappear', 'timestamp_spaceship',\n",
       "       'timestamp_spaceshipResponse', 'timestamp_monster',\n",
       "       'timestamp_monsterResponse', 'timestamp_reward', 'transitions', 'stake',\n",
       "       'timestamp_end_wang'],\n",
       "      dtype='object')"
      ]
     },
     "execution_count": 38,
     "metadata": {},
     "output_type": "execute_result"
    }
   ],
   "source": [
    "file_event.columns"
   ]
  },
  {
   "cell_type": "code",
   "execution_count": 39,
   "metadata": {},
   "outputs": [],
   "source": [
    "order = ['timestamp_stake', 'timestamp_stakeDisappear', 'timestamp_spaceship',\n",
    "       'timestamp_spaceshipResponse', 'timestamp_monster',\n",
    "       'timestamp_monsterResponse', 'timestamp_reward', 'timestamp_end_wang','transitions', 'stake']\n",
    "file_event = file_event[order]"
   ]
  },
  {
   "cell_type": "code",
   "execution_count": 40,
   "metadata": {},
   "outputs": [
    {
     "data": {
      "text/plain": [
       "timestamp_stake                 int64\n",
       "timestamp_stakeDisappear        int64\n",
       "timestamp_spaceship             int64\n",
       "timestamp_spaceshipResponse     int64\n",
       "timestamp_monster               int64\n",
       "timestamp_monsterResponse       int64\n",
       "timestamp_reward                int64\n",
       "timestamp_end_wang              int64\n",
       "transitions                    object\n",
       "stake                           int64\n",
       "dtype: object"
      ]
     },
     "execution_count": 40,
     "metadata": {},
     "output_type": "execute_result"
    }
   ],
   "source": [
    "file_event.dtypes"
   ]
  },
  {
   "cell_type": "code",
   "execution_count": 41,
   "metadata": {},
   "outputs": [
    {
     "name": "stderr",
     "output_type": "stream",
     "text": [
      "100%|██████████████████████████████████████████████████████████████████████████████████| 8/8 [00:00<00:00, 1333.64it/s]\n"
     ]
    },
    {
     "data": {
      "text/html": [
       "<div>\n",
       "<style scoped>\n",
       "    .dataframe tbody tr th:only-of-type {\n",
       "        vertical-align: middle;\n",
       "    }\n",
       "\n",
       "    .dataframe tbody tr th {\n",
       "        vertical-align: top;\n",
       "    }\n",
       "\n",
       "    .dataframe thead th {\n",
       "        text-align: right;\n",
       "    }\n",
       "</style>\n",
       "<table border=\"1\" class=\"dataframe\">\n",
       "  <thead>\n",
       "    <tr style=\"text-align: right;\">\n",
       "      <th></th>\n",
       "      <th>timestamp_stake</th>\n",
       "      <th>timestamp_stakeDisappear</th>\n",
       "      <th>timestamp_spaceship</th>\n",
       "      <th>timestamp_spaceshipResponse</th>\n",
       "      <th>timestamp_monster</th>\n",
       "      <th>timestamp_monsterResponse</th>\n",
       "      <th>timestamp_reward</th>\n",
       "      <th>timestamp_end_wang</th>\n",
       "      <th>transitions</th>\n",
       "      <th>stake</th>\n",
       "    </tr>\n",
       "  </thead>\n",
       "  <tbody>\n",
       "    <tr>\n",
       "      <th>0</th>\n",
       "      <td>2021-11-01 10:16:45.810</td>\n",
       "      <td>2021-11-01 10:16:47.312</td>\n",
       "      <td>2021-11-01 10:16:47.814</td>\n",
       "      <td>2021-11-01 10:16:48.573</td>\n",
       "      <td>2021-11-01 10:16:49.820</td>\n",
       "      <td>2021-11-01 10:16:50.436</td>\n",
       "      <td>2021-11-01 10:16:51.823</td>\n",
       "      <td>2021-11-01 10:16:54.810</td>\n",
       "      <td>stable</td>\n",
       "      <td>5</td>\n",
       "    </tr>\n",
       "    <tr>\n",
       "      <th>1</th>\n",
       "      <td>2021-11-01 10:16:55.229</td>\n",
       "      <td>2021-11-01 10:16:56.731</td>\n",
       "      <td>2021-11-01 10:16:57.232</td>\n",
       "      <td>2021-11-01 10:16:58.564</td>\n",
       "      <td>2021-11-01 10:16:59.239</td>\n",
       "      <td>2021-11-01 10:16:59.917</td>\n",
       "      <td>2021-11-01 10:17:01.240</td>\n",
       "      <td>2021-11-01 10:17:04.229</td>\n",
       "      <td>stable</td>\n",
       "      <td>5</td>\n",
       "    </tr>\n",
       "    <tr>\n",
       "      <th>2</th>\n",
       "      <td>2021-11-01 10:17:04.846</td>\n",
       "      <td>2021-11-01 10:17:06.346</td>\n",
       "      <td>2021-11-01 10:17:06.847</td>\n",
       "      <td>2021-11-01 10:17:07.508</td>\n",
       "      <td>2021-11-01 10:17:08.853</td>\n",
       "      <td>2021-11-01 10:17:09.413</td>\n",
       "      <td>2021-11-01 10:17:10.855</td>\n",
       "      <td>2021-11-01 10:17:13.846</td>\n",
       "      <td>stable</td>\n",
       "      <td>5</td>\n",
       "    </tr>\n",
       "    <tr>\n",
       "      <th>3</th>\n",
       "      <td>2021-11-01 10:17:14.263</td>\n",
       "      <td>2021-11-01 10:17:15.764</td>\n",
       "      <td>2021-11-01 10:17:16.265</td>\n",
       "      <td>2021-11-01 10:17:17.484</td>\n",
       "      <td>2021-11-01 10:17:18.270</td>\n",
       "      <td>2021-11-01 10:17:18.948</td>\n",
       "      <td>2021-11-01 10:17:20.272</td>\n",
       "      <td>2021-11-01 10:17:23.263</td>\n",
       "      <td>stable</td>\n",
       "      <td>5</td>\n",
       "    </tr>\n",
       "    <tr>\n",
       "      <th>4</th>\n",
       "      <td>2021-11-01 10:17:24.081</td>\n",
       "      <td>2021-11-01 10:17:25.582</td>\n",
       "      <td>2021-11-01 10:17:26.083</td>\n",
       "      <td>2021-11-01 10:17:27.252</td>\n",
       "      <td>2021-11-01 10:17:28.091</td>\n",
       "      <td>2021-11-01 10:17:28.988</td>\n",
       "      <td>2021-11-01 10:17:30.092</td>\n",
       "      <td>2021-11-01 10:17:33.081</td>\n",
       "      <td>stable</td>\n",
       "      <td>1</td>\n",
       "    </tr>\n",
       "    <tr>\n",
       "      <th>...</th>\n",
       "      <td>...</td>\n",
       "      <td>...</td>\n",
       "      <td>...</td>\n",
       "      <td>...</td>\n",
       "      <td>...</td>\n",
       "      <td>...</td>\n",
       "      <td>...</td>\n",
       "      <td>...</td>\n",
       "      <td>...</td>\n",
       "      <td>...</td>\n",
       "    </tr>\n",
       "    <tr>\n",
       "      <th>308</th>\n",
       "      <td>2021-11-01 11:19:30.221</td>\n",
       "      <td>2021-11-01 11:19:31.723</td>\n",
       "      <td>2021-11-01 11:19:32.224</td>\n",
       "      <td>2021-11-01 11:19:33.223</td>\n",
       "      <td>2021-11-01 11:19:34.228</td>\n",
       "      <td>2021-11-01 11:19:34.678</td>\n",
       "      <td>2021-11-01 11:19:36.229</td>\n",
       "      <td>2021-11-01 11:19:39.221</td>\n",
       "      <td>variable</td>\n",
       "      <td>1</td>\n",
       "    </tr>\n",
       "    <tr>\n",
       "      <th>309</th>\n",
       "      <td>2021-11-01 11:19:40.643</td>\n",
       "      <td>2021-11-01 11:19:42.144</td>\n",
       "      <td>2021-11-01 11:19:42.644</td>\n",
       "      <td>2021-11-01 11:19:43.408</td>\n",
       "      <td>2021-11-01 11:19:44.651</td>\n",
       "      <td>2021-11-01 11:19:45.126</td>\n",
       "      <td>2021-11-01 11:19:46.654</td>\n",
       "      <td>2021-11-01 11:19:49.643</td>\n",
       "      <td>variable</td>\n",
       "      <td>1</td>\n",
       "    </tr>\n",
       "    <tr>\n",
       "      <th>310</th>\n",
       "      <td>2021-11-01 11:19:50.464</td>\n",
       "      <td>2021-11-01 11:19:51.965</td>\n",
       "      <td>2021-11-01 11:19:52.467</td>\n",
       "      <td>2021-11-01 11:19:53.302</td>\n",
       "      <td>2021-11-01 11:19:54.474</td>\n",
       "      <td>2021-11-01 11:19:54.959</td>\n",
       "      <td>2021-11-01 11:19:56.476</td>\n",
       "      <td>2021-11-01 11:19:59.464</td>\n",
       "      <td>variable</td>\n",
       "      <td>5</td>\n",
       "    </tr>\n",
       "    <tr>\n",
       "      <th>311</th>\n",
       "      <td>2021-11-01 11:19:59.886</td>\n",
       "      <td>2021-11-01 11:20:01.387</td>\n",
       "      <td>2021-11-01 11:20:01.888</td>\n",
       "      <td>2021-11-01 11:20:02.686</td>\n",
       "      <td>2021-11-01 11:20:03.895</td>\n",
       "      <td>2021-11-01 11:20:04.463</td>\n",
       "      <td>2021-11-01 11:20:05.895</td>\n",
       "      <td>2021-11-01 11:20:08.886</td>\n",
       "      <td>variable</td>\n",
       "      <td>1</td>\n",
       "    </tr>\n",
       "    <tr>\n",
       "      <th>312</th>\n",
       "      <td>2021-11-01 11:20:08.900</td>\n",
       "      <td>2021-11-01 11:20:10.401</td>\n",
       "      <td>2021-11-01 11:20:10.902</td>\n",
       "      <td>2021-11-01 11:20:11.766</td>\n",
       "      <td>2021-11-01 11:20:12.908</td>\n",
       "      <td>2021-11-01 11:20:13.398</td>\n",
       "      <td>2021-11-01 11:20:14.909</td>\n",
       "      <td>2021-11-01 11:20:17.900</td>\n",
       "      <td>variable</td>\n",
       "      <td>1</td>\n",
       "    </tr>\n",
       "  </tbody>\n",
       "</table>\n",
       "<p>313 rows × 10 columns</p>\n",
       "</div>"
      ],
      "text/plain": [
       "            timestamp_stake timestamp_stakeDisappear     timestamp_spaceship  \\\n",
       "0   2021-11-01 10:16:45.810  2021-11-01 10:16:47.312 2021-11-01 10:16:47.814   \n",
       "1   2021-11-01 10:16:55.229  2021-11-01 10:16:56.731 2021-11-01 10:16:57.232   \n",
       "2   2021-11-01 10:17:04.846  2021-11-01 10:17:06.346 2021-11-01 10:17:06.847   \n",
       "3   2021-11-01 10:17:14.263  2021-11-01 10:17:15.764 2021-11-01 10:17:16.265   \n",
       "4   2021-11-01 10:17:24.081  2021-11-01 10:17:25.582 2021-11-01 10:17:26.083   \n",
       "..                      ...                      ...                     ...   \n",
       "308 2021-11-01 11:19:30.221  2021-11-01 11:19:31.723 2021-11-01 11:19:32.224   \n",
       "309 2021-11-01 11:19:40.643  2021-11-01 11:19:42.144 2021-11-01 11:19:42.644   \n",
       "310 2021-11-01 11:19:50.464  2021-11-01 11:19:51.965 2021-11-01 11:19:52.467   \n",
       "311 2021-11-01 11:19:59.886  2021-11-01 11:20:01.387 2021-11-01 11:20:01.888   \n",
       "312 2021-11-01 11:20:08.900  2021-11-01 11:20:10.401 2021-11-01 11:20:10.902   \n",
       "\n",
       "    timestamp_spaceshipResponse       timestamp_monster  \\\n",
       "0       2021-11-01 10:16:48.573 2021-11-01 10:16:49.820   \n",
       "1       2021-11-01 10:16:58.564 2021-11-01 10:16:59.239   \n",
       "2       2021-11-01 10:17:07.508 2021-11-01 10:17:08.853   \n",
       "3       2021-11-01 10:17:17.484 2021-11-01 10:17:18.270   \n",
       "4       2021-11-01 10:17:27.252 2021-11-01 10:17:28.091   \n",
       "..                          ...                     ...   \n",
       "308     2021-11-01 11:19:33.223 2021-11-01 11:19:34.228   \n",
       "309     2021-11-01 11:19:43.408 2021-11-01 11:19:44.651   \n",
       "310     2021-11-01 11:19:53.302 2021-11-01 11:19:54.474   \n",
       "311     2021-11-01 11:20:02.686 2021-11-01 11:20:03.895   \n",
       "312     2021-11-01 11:20:11.766 2021-11-01 11:20:12.908   \n",
       "\n",
       "    timestamp_monsterResponse        timestamp_reward      timestamp_end_wang  \\\n",
       "0     2021-11-01 10:16:50.436 2021-11-01 10:16:51.823 2021-11-01 10:16:54.810   \n",
       "1     2021-11-01 10:16:59.917 2021-11-01 10:17:01.240 2021-11-01 10:17:04.229   \n",
       "2     2021-11-01 10:17:09.413 2021-11-01 10:17:10.855 2021-11-01 10:17:13.846   \n",
       "3     2021-11-01 10:17:18.948 2021-11-01 10:17:20.272 2021-11-01 10:17:23.263   \n",
       "4     2021-11-01 10:17:28.988 2021-11-01 10:17:30.092 2021-11-01 10:17:33.081   \n",
       "..                        ...                     ...                     ...   \n",
       "308   2021-11-01 11:19:34.678 2021-11-01 11:19:36.229 2021-11-01 11:19:39.221   \n",
       "309   2021-11-01 11:19:45.126 2021-11-01 11:19:46.654 2021-11-01 11:19:49.643   \n",
       "310   2021-11-01 11:19:54.959 2021-11-01 11:19:56.476 2021-11-01 11:19:59.464   \n",
       "311   2021-11-01 11:20:04.463 2021-11-01 11:20:05.895 2021-11-01 11:20:08.886   \n",
       "312   2021-11-01 11:20:13.398 2021-11-01 11:20:14.909 2021-11-01 11:20:17.900   \n",
       "\n",
       "    transitions  stake  \n",
       "0        stable      5  \n",
       "1        stable      5  \n",
       "2        stable      5  \n",
       "3        stable      5  \n",
       "4        stable      1  \n",
       "..          ...    ...  \n",
       "308    variable      1  \n",
       "309    variable      1  \n",
       "310    variable      5  \n",
       "311    variable      1  \n",
       "312    variable      1  \n",
       "\n",
       "[313 rows x 10 columns]"
      ]
     },
     "execution_count": 41,
     "metadata": {},
     "output_type": "execute_result"
    }
   ],
   "source": [
    "\n",
    "from tqdm import tqdm\n",
    "for i in tqdm(file_event.columns[:-2]):\n",
    "    file_event[i] = file_event[i].apply(timestamp_to_utc_datetime)\n",
    "file_event"
   ]
  },
  {
   "cell_type": "code",
   "execution_count": 42,
   "metadata": {},
   "outputs": [],
   "source": [
    "file_new_event = pd.DataFrame(columns=[\"timestamp\",\"message\"])"
   ]
  },
  {
   "cell_type": "code",
   "execution_count": 43,
   "metadata": {},
   "outputs": [],
   "source": [
    "file_new_event[\"timestamp\"] = file_event.values[:,:-2].flatten()"
   ]
  },
  {
   "cell_type": "code",
   "execution_count": 44,
   "metadata": {},
   "outputs": [
    {
     "data": {
      "text/html": [
       "<div>\n",
       "<style scoped>\n",
       "    .dataframe tbody tr th:only-of-type {\n",
       "        vertical-align: middle;\n",
       "    }\n",
       "\n",
       "    .dataframe tbody tr th {\n",
       "        vertical-align: top;\n",
       "    }\n",
       "\n",
       "    .dataframe thead th {\n",
       "        text-align: right;\n",
       "    }\n",
       "</style>\n",
       "<table border=\"1\" class=\"dataframe\">\n",
       "  <thead>\n",
       "    <tr style=\"text-align: right;\">\n",
       "      <th></th>\n",
       "      <th>timestamp</th>\n",
       "      <th>message</th>\n",
       "    </tr>\n",
       "  </thead>\n",
       "  <tbody>\n",
       "    <tr>\n",
       "      <th>0</th>\n",
       "      <td>2021-11-01 10:16:45.810</td>\n",
       "      <td>NaN</td>\n",
       "    </tr>\n",
       "    <tr>\n",
       "      <th>1</th>\n",
       "      <td>2021-11-01 10:16:47.312</td>\n",
       "      <td>NaN</td>\n",
       "    </tr>\n",
       "    <tr>\n",
       "      <th>2</th>\n",
       "      <td>2021-11-01 10:16:47.814</td>\n",
       "      <td>NaN</td>\n",
       "    </tr>\n",
       "    <tr>\n",
       "      <th>3</th>\n",
       "      <td>2021-11-01 10:16:48.573</td>\n",
       "      <td>NaN</td>\n",
       "    </tr>\n",
       "    <tr>\n",
       "      <th>4</th>\n",
       "      <td>2021-11-01 10:16:49.820</td>\n",
       "      <td>NaN</td>\n",
       "    </tr>\n",
       "    <tr>\n",
       "      <th>...</th>\n",
       "      <td>...</td>\n",
       "      <td>...</td>\n",
       "    </tr>\n",
       "    <tr>\n",
       "      <th>2499</th>\n",
       "      <td>2021-11-01 11:20:11.766</td>\n",
       "      <td>NaN</td>\n",
       "    </tr>\n",
       "    <tr>\n",
       "      <th>2500</th>\n",
       "      <td>2021-11-01 11:20:12.908</td>\n",
       "      <td>NaN</td>\n",
       "    </tr>\n",
       "    <tr>\n",
       "      <th>2501</th>\n",
       "      <td>2021-11-01 11:20:13.398</td>\n",
       "      <td>NaN</td>\n",
       "    </tr>\n",
       "    <tr>\n",
       "      <th>2502</th>\n",
       "      <td>2021-11-01 11:20:14.909</td>\n",
       "      <td>NaN</td>\n",
       "    </tr>\n",
       "    <tr>\n",
       "      <th>2503</th>\n",
       "      <td>2021-11-01 11:20:17.900</td>\n",
       "      <td>NaN</td>\n",
       "    </tr>\n",
       "  </tbody>\n",
       "</table>\n",
       "<p>2504 rows × 2 columns</p>\n",
       "</div>"
      ],
      "text/plain": [
       "                   timestamp message\n",
       "0    2021-11-01 10:16:45.810     NaN\n",
       "1    2021-11-01 10:16:47.312     NaN\n",
       "2    2021-11-01 10:16:47.814     NaN\n",
       "3    2021-11-01 10:16:48.573     NaN\n",
       "4    2021-11-01 10:16:49.820     NaN\n",
       "...                      ...     ...\n",
       "2499 2021-11-01 11:20:11.766     NaN\n",
       "2500 2021-11-01 11:20:12.908     NaN\n",
       "2501 2021-11-01 11:20:13.398     NaN\n",
       "2502 2021-11-01 11:20:14.909     NaN\n",
       "2503 2021-11-01 11:20:17.900     NaN\n",
       "\n",
       "[2504 rows x 2 columns]"
      ]
     },
     "execution_count": 44,
     "metadata": {},
     "output_type": "execute_result"
    }
   ],
   "source": [
    "file_new_event"
   ]
  },
  {
   "cell_type": "code",
   "execution_count": 45,
   "metadata": {},
   "outputs": [
    {
     "data": {
      "text/plain": [
       "Index(['timestamp_stake', 'timestamp_stakeDisappear', 'timestamp_spaceship',\n",
       "       'timestamp_spaceshipResponse', 'timestamp_monster',\n",
       "       'timestamp_monsterResponse', 'timestamp_reward', 'timestamp_end_wang',\n",
       "       'transitions', 'stake'],\n",
       "      dtype='object')"
      ]
     },
     "execution_count": 45,
     "metadata": {},
     "output_type": "execute_result"
    }
   ],
   "source": [
    "file_event.columns"
   ]
  },
  {
   "cell_type": "code",
   "execution_count": 46,
   "metadata": {},
   "outputs": [
    {
     "name": "stderr",
     "output_type": "stream",
     "text": [
      "100%|████████████████████████████████████████████████████████████████████████████| 313/313 [00:00<00:00, 103347.02it/s]\n"
     ]
    }
   ],
   "source": [
    "# [\"TRIAL %d\",\"!E TRIAL_EVENT_VAR stake_disappear \",\"!E TRIAL_EVENT_VAR spaceshipshow\",\"!E TRIAL_EVENT_VAR response_1\",\"!E TRIAL_EVENT_VAR monster_show\",\"!E TRIAL_EVENT_VAR response_2\",\"!E TRIAL_EVENT_VAR reward\",\"TRIAL END\"]\n",
    "temp = []\n",
    "for index in tqdm(range(len(file_new_event)//8)):\n",
    "    temp.append(\"TRIALID %d\"%(index+1))\n",
    "    temp.append(\"!V TRIAL_VAR transitions %s\"%file_event['transitions'][index])\n",
    "    temp.append(\"!V TRIAL_VAR stake %s\"%file_event['stake'][index])\n",
    "    temp.extend([\"!E TRIAL_EVENT_VAR response_1\",\"!E TRIAL_EVENT_VAR monster_show\",\"!E TRIAL_EVENT_VAR response_2\",\"!E TRIAL_EVENT_VAR reward\",\"TRIAL_END\"])"
   ]
  },
  {
   "cell_type": "code",
   "execution_count": 47,
   "metadata": {},
   "outputs": [
    {
     "data": {
      "text/html": [
       "<div>\n",
       "<style scoped>\n",
       "    .dataframe tbody tr th:only-of-type {\n",
       "        vertical-align: middle;\n",
       "    }\n",
       "\n",
       "    .dataframe tbody tr th {\n",
       "        vertical-align: top;\n",
       "    }\n",
       "\n",
       "    .dataframe thead th {\n",
       "        text-align: right;\n",
       "    }\n",
       "</style>\n",
       "<table border=\"1\" class=\"dataframe\">\n",
       "  <thead>\n",
       "    <tr style=\"text-align: right;\">\n",
       "      <th></th>\n",
       "      <th>timestamp</th>\n",
       "      <th>message</th>\n",
       "    </tr>\n",
       "  </thead>\n",
       "  <tbody>\n",
       "    <tr>\n",
       "      <th>0</th>\n",
       "      <td>2021-11-01 10:16:45.810</td>\n",
       "      <td>NaN</td>\n",
       "    </tr>\n",
       "    <tr>\n",
       "      <th>1</th>\n",
       "      <td>2021-11-01 10:16:47.312</td>\n",
       "      <td>NaN</td>\n",
       "    </tr>\n",
       "    <tr>\n",
       "      <th>2</th>\n",
       "      <td>2021-11-01 10:16:47.814</td>\n",
       "      <td>NaN</td>\n",
       "    </tr>\n",
       "    <tr>\n",
       "      <th>3</th>\n",
       "      <td>2021-11-01 10:16:48.573</td>\n",
       "      <td>NaN</td>\n",
       "    </tr>\n",
       "    <tr>\n",
       "      <th>4</th>\n",
       "      <td>2021-11-01 10:16:49.820</td>\n",
       "      <td>NaN</td>\n",
       "    </tr>\n",
       "    <tr>\n",
       "      <th>...</th>\n",
       "      <td>...</td>\n",
       "      <td>...</td>\n",
       "    </tr>\n",
       "    <tr>\n",
       "      <th>2499</th>\n",
       "      <td>2021-11-01 11:20:11.766</td>\n",
       "      <td>NaN</td>\n",
       "    </tr>\n",
       "    <tr>\n",
       "      <th>2500</th>\n",
       "      <td>2021-11-01 11:20:12.908</td>\n",
       "      <td>NaN</td>\n",
       "    </tr>\n",
       "    <tr>\n",
       "      <th>2501</th>\n",
       "      <td>2021-11-01 11:20:13.398</td>\n",
       "      <td>NaN</td>\n",
       "    </tr>\n",
       "    <tr>\n",
       "      <th>2502</th>\n",
       "      <td>2021-11-01 11:20:14.909</td>\n",
       "      <td>NaN</td>\n",
       "    </tr>\n",
       "    <tr>\n",
       "      <th>2503</th>\n",
       "      <td>2021-11-01 11:20:17.900</td>\n",
       "      <td>NaN</td>\n",
       "    </tr>\n",
       "  </tbody>\n",
       "</table>\n",
       "<p>2504 rows × 2 columns</p>\n",
       "</div>"
      ],
      "text/plain": [
       "                   timestamp message\n",
       "0    2021-11-01 10:16:45.810     NaN\n",
       "1    2021-11-01 10:16:47.312     NaN\n",
       "2    2021-11-01 10:16:47.814     NaN\n",
       "3    2021-11-01 10:16:48.573     NaN\n",
       "4    2021-11-01 10:16:49.820     NaN\n",
       "...                      ...     ...\n",
       "2499 2021-11-01 11:20:11.766     NaN\n",
       "2500 2021-11-01 11:20:12.908     NaN\n",
       "2501 2021-11-01 11:20:13.398     NaN\n",
       "2502 2021-11-01 11:20:14.909     NaN\n",
       "2503 2021-11-01 11:20:17.900     NaN\n",
       "\n",
       "[2504 rows x 2 columns]"
      ]
     },
     "execution_count": 47,
     "metadata": {},
     "output_type": "execute_result"
    }
   ],
   "source": [
    "file_new_event"
   ]
  },
  {
   "cell_type": "code",
   "execution_count": 48,
   "metadata": {},
   "outputs": [],
   "source": [
    "file_new_event[\"message\"] = temp"
   ]
  },
  {
   "cell_type": "code",
   "execution_count": 49,
   "metadata": {},
   "outputs": [
    {
     "data": {
      "text/html": [
       "<div>\n",
       "<style scoped>\n",
       "    .dataframe tbody tr th:only-of-type {\n",
       "        vertical-align: middle;\n",
       "    }\n",
       "\n",
       "    .dataframe tbody tr th {\n",
       "        vertical-align: top;\n",
       "    }\n",
       "\n",
       "    .dataframe thead th {\n",
       "        text-align: right;\n",
       "    }\n",
       "</style>\n",
       "<table border=\"1\" class=\"dataframe\">\n",
       "  <thead>\n",
       "    <tr style=\"text-align: right;\">\n",
       "      <th></th>\n",
       "      <th>timestamp</th>\n",
       "      <th>message</th>\n",
       "    </tr>\n",
       "  </thead>\n",
       "  <tbody>\n",
       "    <tr>\n",
       "      <th>0</th>\n",
       "      <td>2021-11-01 10:16:45.810</td>\n",
       "      <td>TRIALID 1</td>\n",
       "    </tr>\n",
       "    <tr>\n",
       "      <th>1</th>\n",
       "      <td>2021-11-01 10:16:47.312</td>\n",
       "      <td>!V TRIAL_VAR transitions stable</td>\n",
       "    </tr>\n",
       "    <tr>\n",
       "      <th>2</th>\n",
       "      <td>2021-11-01 10:16:47.814</td>\n",
       "      <td>!V TRIAL_VAR stake 5</td>\n",
       "    </tr>\n",
       "    <tr>\n",
       "      <th>3</th>\n",
       "      <td>2021-11-01 10:16:48.573</td>\n",
       "      <td>!E TRIAL_EVENT_VAR response_1</td>\n",
       "    </tr>\n",
       "    <tr>\n",
       "      <th>4</th>\n",
       "      <td>2021-11-01 10:16:49.820</td>\n",
       "      <td>!E TRIAL_EVENT_VAR monster_show</td>\n",
       "    </tr>\n",
       "    <tr>\n",
       "      <th>5</th>\n",
       "      <td>2021-11-01 10:16:50.436</td>\n",
       "      <td>!E TRIAL_EVENT_VAR response_2</td>\n",
       "    </tr>\n",
       "    <tr>\n",
       "      <th>6</th>\n",
       "      <td>2021-11-01 10:16:51.823</td>\n",
       "      <td>!E TRIAL_EVENT_VAR reward</td>\n",
       "    </tr>\n",
       "    <tr>\n",
       "      <th>7</th>\n",
       "      <td>2021-11-01 10:16:54.810</td>\n",
       "      <td>TRIAL_END</td>\n",
       "    </tr>\n",
       "    <tr>\n",
       "      <th>8</th>\n",
       "      <td>2021-11-01 10:16:55.229</td>\n",
       "      <td>TRIALID 2</td>\n",
       "    </tr>\n",
       "    <tr>\n",
       "      <th>9</th>\n",
       "      <td>2021-11-01 10:16:56.731</td>\n",
       "      <td>!V TRIAL_VAR transitions stable</td>\n",
       "    </tr>\n",
       "    <tr>\n",
       "      <th>10</th>\n",
       "      <td>2021-11-01 10:16:57.232</td>\n",
       "      <td>!V TRIAL_VAR stake 5</td>\n",
       "    </tr>\n",
       "    <tr>\n",
       "      <th>11</th>\n",
       "      <td>2021-11-01 10:16:58.564</td>\n",
       "      <td>!E TRIAL_EVENT_VAR response_1</td>\n",
       "    </tr>\n",
       "    <tr>\n",
       "      <th>12</th>\n",
       "      <td>2021-11-01 10:16:59.239</td>\n",
       "      <td>!E TRIAL_EVENT_VAR monster_show</td>\n",
       "    </tr>\n",
       "    <tr>\n",
       "      <th>13</th>\n",
       "      <td>2021-11-01 10:16:59.917</td>\n",
       "      <td>!E TRIAL_EVENT_VAR response_2</td>\n",
       "    </tr>\n",
       "    <tr>\n",
       "      <th>14</th>\n",
       "      <td>2021-11-01 10:17:01.240</td>\n",
       "      <td>!E TRIAL_EVENT_VAR reward</td>\n",
       "    </tr>\n",
       "    <tr>\n",
       "      <th>15</th>\n",
       "      <td>2021-11-01 10:17:04.229</td>\n",
       "      <td>TRIAL_END</td>\n",
       "    </tr>\n",
       "    <tr>\n",
       "      <th>16</th>\n",
       "      <td>2021-11-01 10:17:04.846</td>\n",
       "      <td>TRIALID 3</td>\n",
       "    </tr>\n",
       "    <tr>\n",
       "      <th>17</th>\n",
       "      <td>2021-11-01 10:17:06.346</td>\n",
       "      <td>!V TRIAL_VAR transitions stable</td>\n",
       "    </tr>\n",
       "    <tr>\n",
       "      <th>18</th>\n",
       "      <td>2021-11-01 10:17:06.847</td>\n",
       "      <td>!V TRIAL_VAR stake 5</td>\n",
       "    </tr>\n",
       "  </tbody>\n",
       "</table>\n",
       "</div>"
      ],
      "text/plain": [
       "                 timestamp                          message\n",
       "0  2021-11-01 10:16:45.810                        TRIALID 1\n",
       "1  2021-11-01 10:16:47.312  !V TRIAL_VAR transitions stable\n",
       "2  2021-11-01 10:16:47.814             !V TRIAL_VAR stake 5\n",
       "3  2021-11-01 10:16:48.573    !E TRIAL_EVENT_VAR response_1\n",
       "4  2021-11-01 10:16:49.820  !E TRIAL_EVENT_VAR monster_show\n",
       "5  2021-11-01 10:16:50.436    !E TRIAL_EVENT_VAR response_2\n",
       "6  2021-11-01 10:16:51.823        !E TRIAL_EVENT_VAR reward\n",
       "7  2021-11-01 10:16:54.810                        TRIAL_END\n",
       "8  2021-11-01 10:16:55.229                        TRIALID 2\n",
       "9  2021-11-01 10:16:56.731  !V TRIAL_VAR transitions stable\n",
       "10 2021-11-01 10:16:57.232             !V TRIAL_VAR stake 5\n",
       "11 2021-11-01 10:16:58.564    !E TRIAL_EVENT_VAR response_1\n",
       "12 2021-11-01 10:16:59.239  !E TRIAL_EVENT_VAR monster_show\n",
       "13 2021-11-01 10:16:59.917    !E TRIAL_EVENT_VAR response_2\n",
       "14 2021-11-01 10:17:01.240        !E TRIAL_EVENT_VAR reward\n",
       "15 2021-11-01 10:17:04.229                        TRIAL_END\n",
       "16 2021-11-01 10:17:04.846                        TRIALID 3\n",
       "17 2021-11-01 10:17:06.346  !V TRIAL_VAR transitions stable\n",
       "18 2021-11-01 10:17:06.847             !V TRIAL_VAR stake 5"
      ]
     },
     "execution_count": 49,
     "metadata": {},
     "output_type": "execute_result"
    }
   ],
   "source": [
    "file_new_event.head(19)"
   ]
  },
  {
   "cell_type": "code",
   "execution_count": 50,
   "metadata": {},
   "outputs": [],
   "source": [
    "file_new_event.to_csv(\"./sub002_events.csv\",index=False)"
   ]
  },
  {
   "cell_type": "markdown",
   "metadata": {},
   "source": [
    "## 删除实验开始前的瞳孔数据"
   ]
  },
  {
   "cell_type": "code",
   "execution_count": 125,
   "metadata": {},
   "outputs": [],
   "source": [
    "file_new_event = pd.read_csv(\"./sub002_events.csv\")\n",
    "file_new_pupil = pd.read_csv(\"./sub002_2.dat\")"
   ]
  },
  {
   "cell_type": "code",
   "execution_count": 126,
   "metadata": {},
   "outputs": [
    {
     "data": {
      "text/html": [
       "<div>\n",
       "<style scoped>\n",
       "    .dataframe tbody tr th:only-of-type {\n",
       "        vertical-align: middle;\n",
       "    }\n",
       "\n",
       "    .dataframe tbody tr th {\n",
       "        vertical-align: top;\n",
       "    }\n",
       "\n",
       "    .dataframe thead th {\n",
       "        text-align: right;\n",
       "    }\n",
       "</style>\n",
       "<table border=\"1\" class=\"dataframe\">\n",
       "  <thead>\n",
       "    <tr style=\"text-align: right;\">\n",
       "      <th></th>\n",
       "      <th>timestamp</th>\n",
       "      <th>message</th>\n",
       "    </tr>\n",
       "  </thead>\n",
       "  <tbody>\n",
       "    <tr>\n",
       "      <th>2494</th>\n",
       "      <td>2021-11-01 11:20:05.895</td>\n",
       "      <td>!E TRIAL_EVENT_VAR reward</td>\n",
       "    </tr>\n",
       "    <tr>\n",
       "      <th>2495</th>\n",
       "      <td>2021-11-01 11:20:01.386</td>\n",
       "      <td>TRIAL_END</td>\n",
       "    </tr>\n",
       "    <tr>\n",
       "      <th>2496</th>\n",
       "      <td>2021-11-01 11:20:08.900</td>\n",
       "      <td>TRIALID 313</td>\n",
       "    </tr>\n",
       "    <tr>\n",
       "      <th>2497</th>\n",
       "      <td>2021-11-01 11:20:10.401</td>\n",
       "      <td>!V TRIAL_VAR transitions variable</td>\n",
       "    </tr>\n",
       "    <tr>\n",
       "      <th>2498</th>\n",
       "      <td>2021-11-01 11:20:10.902</td>\n",
       "      <td>!E TRIAL_EVENT_VAR spaceshipshow</td>\n",
       "    </tr>\n",
       "    <tr>\n",
       "      <th>2499</th>\n",
       "      <td>2021-11-01 11:20:11.766</td>\n",
       "      <td>!E TRIAL_EVENT_VAR response_1</td>\n",
       "    </tr>\n",
       "    <tr>\n",
       "      <th>2500</th>\n",
       "      <td>2021-11-01 11:20:12.908</td>\n",
       "      <td>!E TRIAL_EVENT_VAR monster_show</td>\n",
       "    </tr>\n",
       "    <tr>\n",
       "      <th>2501</th>\n",
       "      <td>2021-11-01 11:20:13.398</td>\n",
       "      <td>!E TRIAL_EVENT_VAR response_2</td>\n",
       "    </tr>\n",
       "    <tr>\n",
       "      <th>2502</th>\n",
       "      <td>2021-11-01 11:20:14.909</td>\n",
       "      <td>!E TRIAL_EVENT_VAR reward</td>\n",
       "    </tr>\n",
       "    <tr>\n",
       "      <th>2503</th>\n",
       "      <td>2021-11-01 11:20:10.400</td>\n",
       "      <td>TRIAL_END</td>\n",
       "    </tr>\n",
       "  </tbody>\n",
       "</table>\n",
       "</div>"
      ],
      "text/plain": [
       "                    timestamp                            message\n",
       "2494  2021-11-01 11:20:05.895          !E TRIAL_EVENT_VAR reward\n",
       "2495  2021-11-01 11:20:01.386                          TRIAL_END\n",
       "2496  2021-11-01 11:20:08.900                        TRIALID 313\n",
       "2497  2021-11-01 11:20:10.401  !V TRIAL_VAR transitions variable\n",
       "2498  2021-11-01 11:20:10.902   !E TRIAL_EVENT_VAR spaceshipshow\n",
       "2499  2021-11-01 11:20:11.766      !E TRIAL_EVENT_VAR response_1\n",
       "2500  2021-11-01 11:20:12.908    !E TRIAL_EVENT_VAR monster_show\n",
       "2501  2021-11-01 11:20:13.398      !E TRIAL_EVENT_VAR response_2\n",
       "2502  2021-11-01 11:20:14.909          !E TRIAL_EVENT_VAR reward\n",
       "2503  2021-11-01 11:20:10.400                          TRIAL_END"
      ]
     },
     "execution_count": 126,
     "metadata": {},
     "output_type": "execute_result"
    }
   ],
   "source": [
    "file_new_event.tail(10)"
   ]
  },
  {
   "cell_type": "code",
   "execution_count": 127,
   "metadata": {},
   "outputs": [],
   "source": [
    "file_new_event['timestamp'] = pd.to_datetime(file_new_event['timestamp'])\n",
    "file_new_pupil['timestamp'] = pd.to_datetime(file_new_pupil['timestamp'])"
   ]
  },
  {
   "cell_type": "code",
   "execution_count": 128,
   "metadata": {},
   "outputs": [],
   "source": [
    "# 删除实验开始前的数据\n",
    "file_new_pupil = file_new_pupil.drop(file_new_pupil[file_new_pupil['timestamp']<file_new_event['timestamp'][0]].index[:-1])"
   ]
  },
  {
   "cell_type": "code",
   "execution_count": 129,
   "metadata": {},
   "outputs": [],
   "source": [
    "# 删除实验后的数据\n",
    "file_new_pupil = file_new_pupil.drop(file_new_pupil[file_new_pupil['timestamp']>file_new_event['timestamp'][len(file_new_event['timestamp'])-1]].index)"
   ]
  },
  {
   "cell_type": "code",
   "execution_count": 130,
   "metadata": {},
   "outputs": [
    {
     "data": {
      "text/html": [
       "<div>\n",
       "<style scoped>\n",
       "    .dataframe tbody tr th:only-of-type {\n",
       "        vertical-align: middle;\n",
       "    }\n",
       "\n",
       "    .dataframe tbody tr th {\n",
       "        vertical-align: top;\n",
       "    }\n",
       "\n",
       "    .dataframe thead th {\n",
       "        text-align: right;\n",
       "    }\n",
       "</style>\n",
       "<table border=\"1\" class=\"dataframe\">\n",
       "  <thead>\n",
       "    <tr style=\"text-align: right;\">\n",
       "      <th></th>\n",
       "      <th>timestamp</th>\n",
       "      <th>message</th>\n",
       "    </tr>\n",
       "  </thead>\n",
       "  <tbody>\n",
       "    <tr>\n",
       "      <th>0</th>\n",
       "      <td>2021-11-01 10:16:45.810</td>\n",
       "      <td>TRIALID 1</td>\n",
       "    </tr>\n",
       "    <tr>\n",
       "      <th>1</th>\n",
       "      <td>2021-11-01 10:16:47.312</td>\n",
       "      <td>!V TRIAL_VAR transitions stable</td>\n",
       "    </tr>\n",
       "    <tr>\n",
       "      <th>2</th>\n",
       "      <td>2021-11-01 10:16:47.814</td>\n",
       "      <td>!E TRIAL_EVENT_VAR spaceshipshow</td>\n",
       "    </tr>\n",
       "    <tr>\n",
       "      <th>3</th>\n",
       "      <td>2021-11-01 10:16:48.573</td>\n",
       "      <td>!E TRIAL_EVENT_VAR response_1</td>\n",
       "    </tr>\n",
       "    <tr>\n",
       "      <th>4</th>\n",
       "      <td>2021-11-01 10:16:49.820</td>\n",
       "      <td>!E TRIAL_EVENT_VAR monster_show</td>\n",
       "    </tr>\n",
       "    <tr>\n",
       "      <th>...</th>\n",
       "      <td>...</td>\n",
       "      <td>...</td>\n",
       "    </tr>\n",
       "    <tr>\n",
       "      <th>2499</th>\n",
       "      <td>2021-11-01 11:20:11.766</td>\n",
       "      <td>!E TRIAL_EVENT_VAR response_1</td>\n",
       "    </tr>\n",
       "    <tr>\n",
       "      <th>2500</th>\n",
       "      <td>2021-11-01 11:20:12.908</td>\n",
       "      <td>!E TRIAL_EVENT_VAR monster_show</td>\n",
       "    </tr>\n",
       "    <tr>\n",
       "      <th>2501</th>\n",
       "      <td>2021-11-01 11:20:13.398</td>\n",
       "      <td>!E TRIAL_EVENT_VAR response_2</td>\n",
       "    </tr>\n",
       "    <tr>\n",
       "      <th>2502</th>\n",
       "      <td>2021-11-01 11:20:14.909</td>\n",
       "      <td>!E TRIAL_EVENT_VAR reward</td>\n",
       "    </tr>\n",
       "    <tr>\n",
       "      <th>2503</th>\n",
       "      <td>2021-11-01 11:20:10.400</td>\n",
       "      <td>TRIAL_END</td>\n",
       "    </tr>\n",
       "  </tbody>\n",
       "</table>\n",
       "<p>2504 rows × 2 columns</p>\n",
       "</div>"
      ],
      "text/plain": [
       "                   timestamp                           message\n",
       "0    2021-11-01 10:16:45.810                         TRIALID 1\n",
       "1    2021-11-01 10:16:47.312   !V TRIAL_VAR transitions stable\n",
       "2    2021-11-01 10:16:47.814  !E TRIAL_EVENT_VAR spaceshipshow\n",
       "3    2021-11-01 10:16:48.573     !E TRIAL_EVENT_VAR response_1\n",
       "4    2021-11-01 10:16:49.820   !E TRIAL_EVENT_VAR monster_show\n",
       "...                      ...                               ...\n",
       "2499 2021-11-01 11:20:11.766     !E TRIAL_EVENT_VAR response_1\n",
       "2500 2021-11-01 11:20:12.908   !E TRIAL_EVENT_VAR monster_show\n",
       "2501 2021-11-01 11:20:13.398     !E TRIAL_EVENT_VAR response_2\n",
       "2502 2021-11-01 11:20:14.909         !E TRIAL_EVENT_VAR reward\n",
       "2503 2021-11-01 11:20:10.400                         TRIAL_END\n",
       "\n",
       "[2504 rows x 2 columns]"
      ]
     },
     "execution_count": 130,
     "metadata": {},
     "output_type": "execute_result"
    }
   ],
   "source": [
    "file_new_event"
   ]
  },
  {
   "cell_type": "code",
   "execution_count": 131,
   "metadata": {},
   "outputs": [],
   "source": [
    "file_new_pupil.to_csv(\"../test/sub002.dat\",index=False)"
   ]
  },
  {
   "cell_type": "code",
   "execution_count": null,
   "metadata": {},
   "outputs": [],
   "source": []
  },
  {
   "cell_type": "code",
   "execution_count": 88,
   "metadata": {},
   "outputs": [
    {
     "data": {
      "text/plain": [
       "timestamp    datetime64[ns]\n",
       "message              object\n",
       "dtype: object"
      ]
     },
     "execution_count": 88,
     "metadata": {},
     "output_type": "execute_result"
    }
   ],
   "source": [
    "file_new_event.dtypes"
   ]
  },
  {
   "cell_type": "code",
   "execution_count": null,
   "metadata": {},
   "outputs": [],
   "source": []
  }
 ],
 "metadata": {
  "kernelspec": {
   "display_name": "Python 3",
   "language": "python",
   "name": "python3"
  },
  "language_info": {
   "codemirror_mode": {
    "name": "ipython",
    "version": 3
   },
   "file_extension": ".py",
   "mimetype": "text/x-python",
   "name": "python",
   "nbconvert_exporter": "python",
   "pygments_lexer": "ipython3",
   "version": "3.7.8"
  },
  "toc-autonumbering": true,
  "toc-showcode": true,
  "toc-showmarkdowntxt": true
 },
 "nbformat": 4,
 "nbformat_minor": 4
}
